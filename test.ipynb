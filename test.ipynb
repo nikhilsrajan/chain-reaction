{
 "cells": [
  {
   "cell_type": "code",
   "execution_count": 1,
   "metadata": {},
   "outputs": [],
   "source": [
    "import chain_reaction\n",
    "import random"
   ]
  },
  {
   "cell_type": "code",
   "execution_count": 2,
   "metadata": {},
   "outputs": [],
   "source": [
    "def gen_random_row_col(nrows, ncols):\n",
    "    return (random.randint(0, nrows-1), random.randint(0, ncols-1))"
   ]
  },
  {
   "cell_type": "code",
   "execution_count": 12,
   "metadata": {},
   "outputs": [],
   "source": [
    "nrows, ncols = 9, 6\n",
    "no_players = 2\n",
    "\n",
    "winner_count = {}\n",
    "total_steps = 0\n",
    "total_games = 0\n",
    "MAX_GAMES = 10000"
   ]
  },
  {
   "cell_type": "code",
   "execution_count": 13,
   "metadata": {},
   "outputs": [],
   "source": [
    "for _ in range(MAX_GAMES):\n",
    "    grid = chain_reaction.Grid(nrows=nrows, ncols=ncols)\n",
    "    active_players = [idx + 1 for idx in range(no_players)]\n",
    "\n",
    "    continue_playing = True\n",
    "    player_id = 1\n",
    "    steps = 0\n",
    "\n",
    "    while continue_playing:  \n",
    "        ownership_list_dict = grid.get_ownership_list_dict()\n",
    "        \n",
    "        row_col_list = []\n",
    "        for who in [0, player_id]:\n",
    "            if who in ownership_list_dict.keys():\n",
    "                row_col_list += ownership_list_dict[who]\n",
    "        row, col = random.choice(row_col_list)\n",
    "\n",
    "        steps += 1\n",
    "        is_valid_increment, new_value, should_explode = grid.increment(row=row, col=col, who=player_id)\n",
    "\n",
    "        if should_explode:\n",
    "            continue_playing, winner = grid.update_state(row=row, col=col)\n",
    "            active_players = grid.get_ownership_list_dict().keys()\n",
    "        \n",
    "        player_id += 1\n",
    "        if player_id > no_players:\n",
    "            player_id = 1\n",
    "        while player_id not in active_players:\n",
    "            player_id += 1\n",
    "            if player_id > no_players:\n",
    "                player_id = 1\n",
    "\n",
    "    del grid\n",
    "\n",
    "    if winner not in winner_count.keys():\n",
    "        winner_count[winner] = 0\n",
    "    winner_count[winner] += 1\n",
    "    \n",
    "    total_steps += steps\n",
    "\n",
    "    total_games += 1"
   ]
  },
  {
   "cell_type": "code",
   "execution_count": 15,
   "metadata": {},
   "outputs": [
    {
     "name": "stdout",
     "output_type": "stream",
     "text": [
      "player 1 won 5043 times\n",
      "player 2 won 4957 times\n"
     ]
    }
   ],
   "source": [
    "for winner, win_count in winner_count.items():\n",
    "    print('player', winner, 'won', win_count, 'times')"
   ]
  },
  {
   "cell_type": "code",
   "execution_count": 14,
   "metadata": {},
   "outputs": [
    {
     "data": {
      "text/plain": [
       "{2: 15, 4: 9, 0: 44, 3: 14, 5: 9, 1: 9}"
      ]
     },
     "execution_count": 14,
     "metadata": {},
     "output_type": "execute_result"
    }
   ],
   "source": [
    "winner_count"
   ]
  },
  {
   "cell_type": "code",
   "execution_count": 16,
   "metadata": {},
   "outputs": [
    {
     "data": {
      "text/plain": [
       "'1'"
      ]
     },
     "execution_count": 16,
     "metadata": {},
     "output_type": "execute_result"
    }
   ],
   "source": [
    "\"123\"[0]"
   ]
  },
  {
   "cell_type": "code",
   "execution_count": 21,
   "metadata": {},
   "outputs": [
    {
     "name": "stdout",
     "output_type": "stream",
     "text": [
      "line\n",
      "line\n",
      "line\n"
     ]
    }
   ],
   "source": [
    "print('line\\nline', end='\\r')\n",
    "print('line\\nline')"
   ]
  },
  {
   "cell_type": "code",
   "execution_count": 22,
   "metadata": {},
   "outputs": [],
   "source": [
    "LINE_UP = '\\033[1A'\n",
    "LINE_CLEAR = '\\x1b[2K'"
   ]
  },
  {
   "cell_type": "code",
   "execution_count": 24,
   "metadata": {},
   "outputs": [
    {
     "name": "stdout",
     "output_type": "stream",
     "text": [
      "line\n",
      "line\n",
      "\u001b[1A\u001b[1ALINE\n"
     ]
    }
   ],
   "source": [
    "print('line')\n",
    "print('line')\n",
    "print(LINE_UP, end='')\n",
    "print(LINE_UP, end='')\n",
    "print('LINE')"
   ]
  },
  {
   "cell_type": "code",
   "execution_count": null,
   "metadata": {},
   "outputs": [],
   "source": [
    "ascii_grid = "
   ]
  }
 ],
 "metadata": {
  "interpreter": {
   "hash": "92e99b2e960cf5b2ddf14fe2edee98e016add3f3c84ddc9e65f641f8f1ffb423"
  },
  "kernelspec": {
   "display_name": "Python 3.7.13 ('.venv': venv)",
   "language": "python",
   "name": "python3"
  },
  "language_info": {
   "codemirror_mode": {
    "name": "ipython",
    "version": 3
   },
   "file_extension": ".py",
   "mimetype": "text/x-python",
   "name": "python",
   "nbconvert_exporter": "python",
   "pygments_lexer": "ipython3",
   "version": "3.7.13"
  },
  "orig_nbformat": 4
 },
 "nbformat": 4,
 "nbformat_minor": 2
}
